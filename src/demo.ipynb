{
 "cells": [
  {
   "cell_type": "code",
   "execution_count": 1,
   "metadata": {},
   "outputs": [],
   "source": [
    "from __future__ import absolute_import\n",
    "from __future__ import division\n",
    "from __future__ import print_function\n",
    "\n",
    "import math\n",
    "import os\n",
    "import random\n",
    "import sys\n",
    "import time\n",
    "import h5py\n",
    "import copy\n",
    "\n",
    "import matplotlib.pyplot as plt\n",
    "import numpy as np\n",
    "from six.moves import xrange  # pylint: disable=redefined-builtin\n",
    "import tensorflow as tf\n",
    "import procrustes\n",
    "\n",
    "import viz\n",
    "import cameras\n",
    "import data_utils\n",
    "import linear_model"
   ]
  },
  {
   "cell_type": "code",
   "execution_count": 2,
   "metadata": {
    "scrolled": true
   },
   "outputs": [
    {
     "name": "stdout",
     "output_type": "stream",
     "text": [
      "WARNING:tensorflow:From /Users/mechapony/Desktop/3d-pose-baseline/src/linear_model.py:77: The name tf.placeholder is deprecated. Please use tf.compat.v1.placeholder instead.\n",
      "\n",
      "WARNING:tensorflow:From /Users/mechapony/Desktop/3d-pose-baseline/src/linear_model.py:81: The name tf.summary.FileWriter is deprecated. Please use tf.compat.v1.summary.FileWriter instead.\n",
      "\n",
      "WARNING:tensorflow:From /Users/mechapony/Desktop/3d-pose-baseline/src/linear_model.py:90: The name tf.train.exponential_decay is deprecated. Please use tf.compat.v1.train.exponential_decay instead.\n",
      "\n",
      "WARNING:tensorflow:From /Users/mechapony/Desktop/3d-pose-baseline/src/linear_model.py:106: The name tf.get_variable is deprecated. Please use tf.compat.v1.get_variable instead.\n",
      "\n",
      "WARNING:tensorflow:From /Users/mechapony/Desktop/3d-pose-baseline/src/linear_model.py:29: The name tf.truncated_normal is deprecated. Please use tf.random.truncated_normal instead.\n",
      "\n",
      "WARNING:tensorflow:From /opt/anaconda3/envs/3dbaseline/lib/python3.6/site-packages/tensorflow_core/python/ops/clip_ops.py:172: where (from tensorflow.python.ops.array_ops) is deprecated and will be removed in a future version.\n",
      "Instructions for updating:\n",
      "Use tf.where in 2.0, which has the same broadcast rule as np.where\n",
      "WARNING:tensorflow:From /Users/mechapony/Desktop/3d-pose-baseline/src/linear_model.py:114: calling dropout (from tensorflow.python.ops.nn_ops) with keep_prob is deprecated and will be removed in a future version.\n",
      "Instructions for updating:\n",
      "Please use `rate` instead of `keep_prob`. Rate should be set to `rate = 1 - keep_prob`.\n",
      "WARNING:tensorflow:From /Users/mechapony/Desktop/3d-pose-baseline/src/linear_model.py:130: The name tf.summary.scalar is deprecated. Please use tf.compat.v1.summary.scalar instead.\n",
      "\n",
      "WARNING:tensorflow:From /Users/mechapony/Desktop/3d-pose-baseline/src/linear_model.py:137: The name tf.train.AdamOptimizer is deprecated. Please use tf.compat.v1.train.AdamOptimizer instead.\n",
      "\n",
      "WARNING:tensorflow:From /Users/mechapony/Desktop/3d-pose-baseline/src/linear_model.py:138: The name tf.get_collection is deprecated. Please use tf.compat.v1.get_collection instead.\n",
      "\n",
      "WARNING:tensorflow:From /Users/mechapony/Desktop/3d-pose-baseline/src/linear_model.py:138: The name tf.GraphKeys is deprecated. Please use tf.compat.v1.GraphKeys instead.\n",
      "\n",
      "WARNING:tensorflow:From /Users/mechapony/Desktop/3d-pose-baseline/src/linear_model.py:151: The name tf.train.Saver is deprecated. Please use tf.compat.v1.train.Saver instead.\n",
      "\n",
      "WARNING:tensorflow:From /Users/mechapony/Desktop/3d-pose-baseline/src/linear_model.py:151: The name tf.global_variables is deprecated. Please use tf.compat.v1.global_variables instead.\n",
      "\n"
     ]
    }
   ],
   "source": [
    "# モデルのパスを指定して構築\n",
    "train_dir = '../ckpt'\n",
    "ckpt = tf.train.get_checkpoint_state(train_dir, latest_filename=\"checkpoint\")\n",
    "\n",
    "summaries_dir = os.path.join( train_dir, \"log\" )\n",
    "model = linear_model.LinearModel(\n",
    "    1024,\n",
    "    2,\n",
    "    True,\n",
    "    False,\n",
    "    True,\n",
    "    64,\n",
    "    1e-3,\n",
    "    summaries_dir,\n",
    "    False,\n",
    "    dtype=tf.float32)\n",
    "\n",
    "if ckpt and ckpt.model_checkpoint_path:\n",
    "    ckpt_name = os.path.basename( ckpt.model_checkpoint_path )"
   ]
  },
  {
   "cell_type": "code",
   "execution_count": 32,
   "metadata": {
    "scrolled": true
   },
   "outputs": [
    {
     "name": "stdout",
     "output_type": "stream",
     "text": [
      "Loading model checkpoint-4874200\n",
      "INFO:tensorflow:Restoring parameters from ../ckpt/checkpoint-4874200\n",
      "Model loaded\n"
     ]
    }
   ],
   "source": [
    "with tf.Session() as sess:\n",
    "    \n",
    "    # モデルへweightを読み込む\n",
    "    print(\"Loading model {0}\".format( ckpt_name ))\n",
    "    model.saver.restore( sess, ckpt.model_checkpoint_path )\n",
    "    print(\"Model loaded\")\n",
    "    \n",
    "    enc_in = np.arange(32).reshape(1,32)\n",
    "    dec_out = np.arange(48).reshape(1,48)\n",
    "    dp = 1.0\n",
    "    \n",
    "    _, _, poses3d = model.step(sess, enc_in, dec_out, dp, isTraining=False)"
   ]
  },
  {
   "cell_type": "code",
   "execution_count": 25,
   "metadata": {},
   "outputs": [
    {
     "data": {
      "text/plain": [
       "array([[-0.0394242 ,  0.02336586,  0.02405731,  0.02954462,  0.12618995,\n",
       "        -0.01935147,  0.04881043,  0.12481637,  0.04060541,  0.03942417,\n",
       "        -0.02336448, -0.0240575 ,  0.1481902 ,  0.13176751, -0.03242367,\n",
       "         0.18603157,  0.13249151, -0.04657107,  0.3833069 ,  0.33933014,\n",
       "        -0.04174181,  0.32632723,  0.1805447 , -0.03046812,  0.24835709,\n",
       "         0.21106756, -0.021041  ,  0.2531911 ,  0.19681375, -0.02256853,\n",
       "         0.2397516 ,  0.21001111, -0.015431  ,  0.19216438,  0.26242778,\n",
       "        -0.0394512 ,  0.21380308,  0.3658872 ,  0.03567064,  0.20204845,\n",
       "         0.23013574, -0.03016636,  0.18658516,  0.3752058 , -0.00718565,\n",
       "         0.1809592 ,  0.3686468 ,  0.04924582]], dtype=float32)"
      ]
     },
     "execution_count": 25,
     "metadata": {},
     "output_type": "execute_result"
    }
   ],
   "source": [
    "poses3d"
   ]
  },
  {
   "cell_type": "markdown",
   "metadata": {},
   "source": [
    "以下草稿"
   ]
  },
  {
   "cell_type": "code",
   "execution_count": 5,
   "metadata": {},
   "outputs": [
    {
     "name": "stdout",
     "output_type": "stream",
     "text": [
      "Loading model checkpoint-4874200\n",
      "INFO:tensorflow:Restoring parameters from ../ckpt/checkpoint-4874200\n",
      "Model loaded\n",
      "<tensorflow.python.client.session.Session object at 0x7f9d5682d2e8>\n"
     ]
    }
   ],
   "source": [
    "with tf.Session() as sess:\n",
    "\n",
    "    # モデルのパスを指定\n",
    "    train_dir = '../ckpt'\n",
    "    ckpt = tf.train.get_checkpoint_state(train_dir, latest_filename=\"checkpoint\")\n",
    "\n",
    "    if ckpt and ckpt.model_checkpoint_path:\n",
    "        ckpt_name = os.path.basename( ckpt.model_checkpoint_path )\n",
    "\n",
    "    # .metaからモデルを読み込む\n",
    "    print(\"Loading model {0}\".format( ckpt_name ))\n",
    "    saver = tf.train.import_meta_graph(ckpt.model_checkpoint_path + '.meta')\n",
    "    saver.restore(sess, ckpt.model_checkpoint_path)\n",
    "    print(\"Model loaded\") \n",
    "    \n",
    "    print(sess)"
   ]
  }
 ],
 "metadata": {
  "kernelspec": {
   "display_name": "Python 3",
   "language": "python",
   "name": "python3"
  },
  "language_info": {
   "codemirror_mode": {
    "name": "ipython",
    "version": 3
   },
   "file_extension": ".py",
   "mimetype": "text/x-python",
   "name": "python",
   "nbconvert_exporter": "python",
   "pygments_lexer": "ipython3",
   "version": "3.6.10"
  }
 },
 "nbformat": 4,
 "nbformat_minor": 4
}
